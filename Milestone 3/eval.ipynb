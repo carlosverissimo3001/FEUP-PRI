{
 "cells": [
  {
   "cell_type": "code",
   "execution_count": 31,
   "metadata": {},
   "outputs": [],
   "source": [
    "# SETUP\n",
    "import matplotlib.pyplot as plt\n",
    "from sklearn.metrics import PrecisionRecallDisplay\n",
    "import numpy as np\n",
    "import json\n",
    "import requests\n",
    "import pandas as pd\n",
    "\n",
    "\n",
    "QUERY_URLS = [\n",
    "    \"http://localhost:8983/solr/movies/select?defType=edismax&indent=true&q.op=OR&q=%22plot%20twist%22~3&qf=keywords%20reviews%20description&rows=30\",\n",
    "    \"http://localhost:8983/solr/movies/select?defType=edismax&indent=true&q.op=OR&q=%22based%20true%20story%22~3&qf=keywords%20reviews%20description&rows=30\",\n",
    "    \"http://localhost:8983/solr/movies/select?defType=edismax&indent=true&q.op=OR&q=%22bad%20script%22~3&qf=keywords%20reviews%20description&rows=30\",\n",
    "]\n",
    "\n",
    "QUERYS = [\n",
    "    \"poor script\",\n",
    "    \"based true story\",\n",
    "    \"plot twist\",\n",
    "]"
   ]
  },
  {
   "cell_type": "code",
   "execution_count": 51,
   "metadata": {},
   "outputs": [],
   "source": [
    "req = requests.get(QUERY_URLS[1]).json()['response']['docs']\n",
    "\n",
    "with open(\"results/stage2/query2.txt\", \"w\") as f:\n",
    "    for r in req:\n",
    "        f.write(r['title'] + \"\\n\")"
   ]
  },
  {
   "cell_type": "code",
   "execution_count": 54,
   "metadata": {},
   "outputs": [],
   "source": [
    "def evaluate(stage):\n",
    "    for i in range(1, 2):\n",
    "        # Read qrels to extract relevant documents\n",
    "        relevant = list(map(lambda el: el.strip(), open(f\"results/stage{stage}/query{i+1}.txt\").readlines()))\n",
    "        # Get query results from Solr instance\n",
    "\n",
    "        req = requests.get(QUERY_URLS[i]).json()\n",
    "    \n",
    "        results = req['response']['docs']\n",
    "\n",
    "        print(req[\"response\"][\"numFound\"])\n",
    "\n",
    "        # METRICS TABLE\n",
    "        # Define custom decorator to automatically calculate metric based on key\n",
    "        metrics = {}\n",
    "        metric = lambda f: metrics.setdefault(f.__name__, f)\n",
    "\n",
    "        @metric\n",
    "        def ap(results, relevant):\n",
    "            \"\"\"Average Precision\"\"\"\n",
    "            precision_values = [\n",
    "                len([\n",
    "                    doc \n",
    "                    for doc in results[:idx]\n",
    "                    if doc['title'] in relevant\n",
    "                ]) / idx \n",
    "                for idx in range(1, len(results))\n",
    "            ]\n",
    "            return sum(precision_values)/len(precision_values)\n",
    "\n",
    "        @metric\n",
    "        def p30(results, relevant, n=30):\n",
    "            \"\"\"Precision at N\"\"\"\n",
    "            return len([doc for doc in results[:n] if doc['title'] in relevant])/n\n",
    "\n",
    "        def calculate_metric(key, results, relevant):\n",
    "            return metrics[key](results, relevant)\n",
    "\n",
    "        # Define metrics to be calculated\n",
    "        evaluation_metrics = {\n",
    "            'ap': 'Average Precision',\n",
    "            'p30': 'Precision at 30 (P@30)'\n",
    "        }\n",
    "\n",
    "        # Calculate all metrics and export results as LaTeX table\n",
    "        df = pd.DataFrame([['Metric','Value']] +\n",
    "            [\n",
    "                [evaluation_metrics[m], calculate_metric(m, results, relevant)]\n",
    "                for m in evaluation_metrics\n",
    "            ]\n",
    "        )\n",
    "\n",
    "        with open(f'results/stage{stage}/query{i+1}.tex','w') as tf:\n",
    "            tf.write(df.to_latex())\n",
    "\n",
    "        # PRECISION-RECALL CURVE\n",
    "        # Calculate precision and recall values as we move down the ranked list\n",
    "        precision_values = [\n",
    "            len([\n",
    "                doc \n",
    "                for doc in results[:idx]\n",
    "                if doc['title'] in relevant\n",
    "            ]) / idx \n",
    "            for idx, _ in enumerate(results, start=1)\n",
    "        ]\n",
    "\n",
    "        recall_values = [\n",
    "            len([\n",
    "                doc for doc in results[:idx]\n",
    "                if doc['title'] in relevant\n",
    "            ]) / len(relevant)\n",
    "            for idx, _ in enumerate(results, start=1)\n",
    "        ]\n",
    "\n",
    "        precision_recall_match = {k: v for k,v in zip(recall_values, precision_values)}\n",
    "\n",
    "        # Extend recall_values to include traditional steps for a better curve (0.1, 0.2 ...)\n",
    "        recall_values.extend([step for step in np.arange(0.1, 1.1, 0.1) if step not in recall_values])\n",
    "        recall_values = sorted(set(recall_values))\n",
    "\n",
    "        # Extend matching dict to include these new intermediate steps\n",
    "        for idx, step in enumerate(recall_values):\n",
    "            if step not in precision_recall_match:\n",
    "                if recall_values[idx-1] in precision_recall_match:\n",
    "                    precision_recall_match[step] = precision_recall_match[recall_values[idx-1]]\n",
    "                else:\n",
    "                    precision_recall_match[step] = precision_recall_match[recall_values[idx+1]]\n",
    "\n",
    "        disp = PrecisionRecallDisplay([precision_recall_match.get(r) for r in recall_values], recall_values)\n",
    "        disp.plot()\n",
    "        plt.savefig(f'plots/stage{stage}/query{i+1}.pdf')    \n"
   ]
  },
  {
   "cell_type": "code",
   "execution_count": 55,
   "metadata": {},
   "outputs": [
    {
     "name": "stdout",
     "output_type": "stream",
     "text": [
      "297\n"
     ]
    },
    {
     "name": "stderr",
     "output_type": "stream",
     "text": [
      "C:\\Users\\veris\\AppData\\Local\\Temp\\ipykernel_20188\\1300244119.py:54: FutureWarning: In future versions `DataFrame.to_latex` is expected to utilise the base implementation of `Styler.to_latex` for formatting and rendering. The arguments signature may therefore change. It is recommended instead to use `DataFrame.style.to_latex` which also contains additional functionality.\n",
      "  tf.write(df.to_latex())\n"
     ]
    },
    {
     "data": {
      "image/png": "[encoded data removed]",
      "text/plain": [
       "<Figure size 432x288 with 1 Axes>"
      ]
     },
     "metadata": {
      "needs_background": "light"
     },
     "output_type": "display_data"
    }
   ],
   "source": [
    "for stage in range(2,3):\n",
    "    evaluate(stage)"
   ]
  }
 ],
 "metadata": {
  "kernelspec": {
   "display_name": "Python 3.10.4 64-bit",
   "language": "python",
   "name": "python3"
  },
  "language_info": {
   "codemirror_mode": {
    "name": "ipython",
    "version": 3
   },
   "file_extension": ".py",
   "mimetype": "text/x-python",
   "name": "python",
   "nbconvert_exporter": "python",
   "pygments_lexer": "ipython3",
   "version": "3.10.4 (tags/v3.10.4:9d38120, Mar 23 2022, 23:13:41) [MSC v.1929 64 bit (AMD64)]"
  },
  "orig_nbformat": 4,
  "vscode": {
   "interpreter": {
    "hash": "d262e7d787343bb66990a00de3e9893afc6af4e1c4b01eb9fd482a95e03b1473"
   }
  }
 },
 "nbformat": 4,
 "nbformat_minor": 2
}
