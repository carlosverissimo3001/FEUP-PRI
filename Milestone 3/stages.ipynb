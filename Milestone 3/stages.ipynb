{
 "cells": [
  {
   "cell_type": "code",
   "execution_count": 2,
   "metadata": {},
   "outputs": [],
   "source": [
    "import json\n",
    "import random"
   ]
  },
  {
   "cell_type": "code",
   "execution_count": 4,
   "metadata": {},
   "outputs": [
    {
     "name": "stdout",
     "output_type": "stream",
     "text": [
      "7289\n"
     ]
    },
    {
     "data": {
      "text/plain": [
       "' for movie in movies:\\n    del movie[\"reviews\"]\\n    del movie[\"keywords\"]\\n\\nwith open(\"output/movies-stage-1.json\", \"w\") as f:\\n    json.dump(movies, f, indent = 4) '"
      ]
     },
     "execution_count": 4,
     "metadata": {},
     "output_type": "execute_result"
    }
   ],
   "source": [
    "## First stage -> Only description\n",
    "with open(\"output/movies-with-reviews.json\", \"r\") as f:\n",
    "    movies = json.load(f)\n",
    "\n",
    "for movie in movies:\n",
    "    del movie[\"reviews\"]\n",
    "    del movie[\"keywords\"]\n",
    "\n",
    "with open(\"output/movies-stage-1.json\", \"w\") as f:\n",
    "    json.dump(movies, f, indent = 4)"
   ]
  },
  {
   "cell_type": "code",
   "execution_count": 13,
   "metadata": {},
   "outputs": [],
   "source": [
    "## Second stage -> Description & Keywords\n",
    "with open(\"output/movies-with-reviews.json\", \"r\") as f:\n",
    "    movies = json.load(f)\n",
    "\n",
    "for movie in movies:\n",
    "    del movie[\"reviews\"]\n",
    "\n",
    "with open(\"output/movies-stage-2.json\", \"w\") as f:\n",
    "    json.dump(movies, f, indent = 4)"
   ]
  },
  {
   "cell_type": "code",
   "execution_count": null,
   "metadata": {},
   "outputs": [],
   "source": [
    "## Third stage -> All\n",
    "with open(\"output/movies-with-reviews.json\", \"r\") as f:\n",
    "    movies = json.load(f)\n",
    "\n",
    "with open(\"output/movies-stage-3.json\", \"w\") as f:\n",
    "    json.dump(movies, f, indent = 4)"
   ]
  }
 ],
 "metadata": {
  "kernelspec": {
   "display_name": "Python 3.10.4 64-bit",
   "language": "python",
   "name": "python3"
  },
  "language_info": {
   "codemirror_mode": {
    "name": "ipython",
    "version": 3
   },
   "file_extension": ".py",
   "mimetype": "text/x-python",
   "name": "python",
   "nbconvert_exporter": "python",
   "pygments_lexer": "ipython3",
   "version": "3.10.4"
  },
  "orig_nbformat": 4,
  "vscode": {
   "interpreter": {
    "hash": "d262e7d787343bb66990a00de3e9893afc6af4e1c4b01eb9fd482a95e03b1473"
   }
  }
 },
 "nbformat": 4,
 "nbformat_minor": 2
}
