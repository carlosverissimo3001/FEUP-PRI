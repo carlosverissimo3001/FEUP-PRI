{
 "cells": [
  {
   "cell_type": "code",
   "execution_count": 4,
   "metadata": {},
   "outputs": [],
   "source": [
    "from bs4 import BeautifulSoup as BeautifulSoup\n",
    "import requests\n",
    "import json\n",
    "import re"
   ]
  },
  {
   "cell_type": "code",
   "execution_count": 3,
   "metadata": {},
   "outputs": [],
   "source": [
    "with open(\"output-new/movies-no-reviews.json\", \"r\") as f:\n",
    "    movies = json.load(f)"
   ]
  },
  {
   "cell_type": "code",
   "execution_count": 4,
   "metadata": {},
   "outputs": [],
   "source": [
    "def get_reviews_from_imdb(start, end):\n",
    "    arr = []\n",
    "    k = start\n",
    "    for i in range(start, end):\n",
    "        url='https://www.imdb.com/title/' + str(movies[i][\"id\"]) + '/reviews?sort=totalVotes&dir=desc&ratingFilter=0'\n",
    "        req=requests.get(url)\n",
    "        content=req.text\n",
    "        \n",
    "        movies[i][\"reviews\"] = []\n",
    "        soup = BeautifulSoup(content)\n",
    "        reviews = soup.findAll('div', attrs={\"class\":\"lister-item-content\"})\n",
    "        \n",
    "        for review in reviews:\n",
    "            title = review.find('a', attrs={\"class\" : \"title\"}).text.strip()\n",
    "            content = review.find('div', attrs={\"class\" : \"text show-more__control\"}).text.strip()\n",
    "            \n",
    "            text = title + ' - ' + content\n",
    "            \n",
    "            movies[i][\"reviews\"].append(text)\n",
    "\n",
    "        arr.append(movies[i])\n",
    "\n",
    "        if (k % 10 == 0):\n",
    "            print(\"Movie -> \" + str(k))\n",
    "        k += 1\n",
    "   \n",
    "    return arr"
   ]
  },
  {
   "cell_type": "code",
   "execution_count": 4,
   "metadata": {},
   "outputs": [],
   "source": [
    "# 0 - 500\n",
    "arr = get_reviews_from_imdb(0, 500)\n",
    "\n",
    "with open(\"movies-new/pt1.json\", \"w\") as f:\n",
    "    json.dump(arr, f, indent =4)"
   ]
  },
  {
   "cell_type": "code",
   "execution_count": null,
   "metadata": {},
   "outputs": [],
   "source": [
    "# 500 - 1000\n",
    "arr = get_reviews_from_imdb(500, 1000)\n",
    "\n",
    "with open(\"movies-new/pt2.json\", \"w\") as f:\n",
    "    json.dump(arr, f, indent =4)"
   ]
  },
  {
   "cell_type": "code",
   "execution_count": null,
   "metadata": {},
   "outputs": [],
   "source": [
    "# 1000 - 1500\n",
    "arr = get_reviews_from_imdb(1000, 1500)\n",
    "\n",
    "with open(\"movies-new/pt3.json\", \"w\") as f:\n",
    "    json.dump(arr, f, indent =4)"
   ]
  },
  {
   "cell_type": "code",
   "execution_count": null,
   "metadata": {},
   "outputs": [],
   "source": [
    "# 1500 - 2000\n",
    "arr = get_reviews_from_imdb(1500, 2000)\n",
    "\n",
    "with open(\"movies-new/pt4.json\", \"w\") as f:\n",
    "    json.dump(arr, f, indent =4)"
   ]
  },
  {
   "cell_type": "code",
   "execution_count": null,
   "metadata": {},
   "outputs": [],
   "source": [
    "# 2000 - 2500\n",
    "arr = get_reviews_from_imdb(2000, 2500)\n",
    "\n",
    "with open(\"movies-new/pt5.json\", \"w\") as f:\n",
    "    json.dump(arr, f, indent =4)"
   ]
  },
  {
   "cell_type": "code",
   "execution_count": null,
   "metadata": {},
   "outputs": [],
   "source": [
    "# 2500 - 3000\n",
    "arr = get_reviews_from_imdb(2500, 3000)\n",
    "\n",
    "with open(\"movies-new/pt6.json\", \"w\") as f:\n",
    "    json.dump(arr, f, indent =4)"
   ]
  },
  {
   "cell_type": "code",
   "execution_count": null,
   "metadata": {},
   "outputs": [],
   "source": [
    "# 3000 - 3500\n",
    "arr = get_reviews_from_imdb(3000, 3500)\n",
    "\n",
    "with open(\"movies-new/pt7.json\", \"w\") as f:\n",
    "    json.dump(arr, f, indent =4)"
   ]
  },
  {
   "cell_type": "code",
   "execution_count": null,
   "metadata": {},
   "outputs": [],
   "source": [
    "# 3500 - 4000\n",
    "arr = get_reviews_from_imdb(3500, 4000)\n",
    "\n",
    "with open(\"movies-new/pt8.json\", \"w\") as f:\n",
    "    json.dump(arr, f, indent =4)"
   ]
  },
  {
   "cell_type": "code",
   "execution_count": null,
   "metadata": {},
   "outputs": [],
   "source": [
    "# 4000 - 4500\n",
    "arr = get_reviews_from_imdb(4000, 4500)\n",
    "\n",
    "with open(\"movies-new/pt9.json\", \"w\") as f:\n",
    "    json.dump(arr, f, indent =4)"
   ]
  },
  {
   "cell_type": "code",
   "execution_count": null,
   "metadata": {},
   "outputs": [],
   "source": [
    "# 4500 - 5000\n",
    "arr = get_reviews_from_imdb(4500, 5000)\n",
    "\n",
    "with open(\"movies-new/pt10.json\", \"w\") as f:\n",
    "    json.dump(arr, f, indent =4)"
   ]
  },
  {
   "cell_type": "code",
   "execution_count": null,
   "metadata": {},
   "outputs": [],
   "source": [
    "# 5000 - 5500\n",
    "arr = get_reviews_from_imdb(5000, 5500)\n",
    "\n",
    "with open(\"movies-new/pt11.json\", \"w\") as f:\n",
    "    json.dump(arr, f, indent = 4)"
   ]
  },
  {
   "cell_type": "code",
   "execution_count": null,
   "metadata": {},
   "outputs": [],
   "source": [
    "# 5500 - 6000\n",
    "arr = get_reviews_from_imdb(5500, 6000)\n",
    "\n",
    "with open(\"movies-new/pt12.json\", \"w\") as f:\n",
    "    json.dump(arr, f, indent = 4)"
   ]
  },
  {
   "cell_type": "code",
   "execution_count": null,
   "metadata": {},
   "outputs": [],
   "source": [
    "# 6000 - 6500\n",
    "arr = get_reviews_from_imdb(6000, 6500)\n",
    "\n",
    "with open(\"movies-new/pt13.json\", \"w\") as f:\n",
    "    json.dump(arr, f, indent = 4)"
   ]
  },
  {
   "cell_type": "code",
   "execution_count": null,
   "metadata": {},
   "outputs": [],
   "source": [
    "# 6500 - 7000\n",
    "arr = get_reviews_from_imdb(6500, 7000)\n",
    "\n",
    "with open(\"movies-new/pt14.json\", \"w\") as f:\n",
    "    json.dump(arr, f, indent = 4)"
   ]
  },
  {
   "cell_type": "code",
   "execution_count": null,
   "metadata": {},
   "outputs": [],
   "source": [
    "# 7000 - len(movies)\n",
    "arr = get_reviews_from_imdb(7000, len(movies))\n",
    "\n",
    "with open(\"movies-new/pt15.json\", \"w\") as f:\n",
    "    json.dump(arr, f, indent = 4)"
   ]
  },
  {
   "cell_type": "code",
   "execution_count": null,
   "metadata": {},
   "outputs": [],
   "source": [
    "#### APPEND ALL DATASETS INTO A SINGLE ONE"
   ]
  },
  {
   "cell_type": "code",
   "execution_count": 2,
   "metadata": {},
   "outputs": [],
   "source": [
    "def open_movie_file(file_no: int):\n",
    "    with open(f\"movies-new/pt{file_no}.json\", \"r\") as f:\n",
    "        return json.load(f)"
   ]
  },
  {
   "cell_type": "code",
   "execution_count": 5,
   "metadata": {},
   "outputs": [],
   "source": [
    "all = open_movie_file(1)\n",
    "for i in range (2, 16):\n",
    "    part = open_movie_file(i)\n",
    "\n",
    "    for movie in part:\n",
    "        all.append(movie)"
   ]
  },
  {
   "cell_type": "code",
   "execution_count": 6,
   "metadata": {},
   "outputs": [
    {
     "data": {
      "text/plain": [
       "7309"
      ]
     },
     "execution_count": 6,
     "metadata": {},
     "output_type": "execute_result"
    }
   ],
   "source": [
    "len(all)"
   ]
  },
  {
   "cell_type": "code",
   "execution_count": 8,
   "metadata": {},
   "outputs": [],
   "source": [
    "with open(\"output-new/movies-with-reviews.json\", \"w\") as f:\n",
    "    json.dump(all, f, indent = 4 )"
   ]
  }
 ],
 "metadata": {
  "kernelspec": {
   "display_name": "Python 3.10.4 64-bit",
   "language": "python",
   "name": "python3"
  },
  "language_info": {
   "codemirror_mode": {
    "name": "ipython",
    "version": 3
   },
   "file_extension": ".py",
   "mimetype": "text/x-python",
   "name": "python",
   "nbconvert_exporter": "python",
   "pygments_lexer": "ipython3",
   "version": "3.10.4 (tags/v3.10.4:9d38120, Mar 23 2022, 23:13:41) [MSC v.1929 64 bit (AMD64)]"
  },
  "orig_nbformat": 4,
  "vscode": {
   "interpreter": {
    "hash": "d262e7d787343bb66990a00de3e9893afc6af4e1c4b01eb9fd482a95e03b1473"
   }
  }
 },
 "nbformat": 4,
 "nbformat_minor": 2
}
