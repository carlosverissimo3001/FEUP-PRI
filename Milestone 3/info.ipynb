{
 "cells": [
  {
   "cell_type": "code",
   "execution_count": 24,
   "metadata": {},
   "outputs": [],
   "source": [
    "import json\n",
    "import pandas as pd\n",
    "\n",
    "from wordcloud import WordCloud\n",
    "import matplotlib.pyplot as plt"
   ]
  },
  {
   "cell_type": "code",
   "execution_count": 92,
   "metadata": {},
   "outputs": [],
   "source": [
    "with open(\"output-new/movies-with-reviews.json\") as f:\n",
    "    movies = json.load(f)"
   ]
  },
  {
   "cell_type": "code",
   "execution_count": 93,
   "metadata": {},
   "outputs": [],
   "source": [
    "# Get most commom genres\n",
    "keywords = {}\n",
    "\n",
    "for movie in movies:\n",
    "    for keyword in movie[\"keywords\"]:\n",
    "        if keyword in keywords:\n",
    "            keywords[keyword] += 1\n",
    "        else:\n",
    "            keywords[keyword] = 1\n",
    "\n",
    "\n",
    "# Sort keywords by count\n",
    "keywords = sorted(keywords.items(), key=lambda x: x[1], reverse=True)"
   ]
  },
  {
   "cell_type": "code",
   "execution_count": 94,
   "metadata": {},
   "outputs": [
    {
     "data": {
      "image/png": "[encoded data removed]",
      "text/plain": [
       "<Figure size 576x360 with 1 Axes>"
      ]
     },
     "metadata": {
      "needs_background": "light"
     },
     "output_type": "display_data"
    }
   ],
   "source": [
    "# Display top 5 keywords with a bar plot, with a color for each\n",
    "df = pd.DataFrame(keywords[:5], columns=[\"keyword\", \"count\"])\n",
    "\n",
    "plt.figure(figsize=(8, 5))\n",
    "\n",
    "plt.bar(df[\"keyword\"], df[\"count\"], color=[\"#1f77b4\", \"#ff7f0e\", \"#2ca02c\", \"#d62728\", \"#9467bd\"])\n",
    "\n",
    "# Make text smaller\n",
    "plt.xticks(fontsize=10)\n",
    "\n",
    "plt.title(\"Top 5 keywords\")\n",
    "plt.ylabel(\"Count\")\n",
    "\n",
    "plt.savefig(\"plots/top-5-keywords.pdf\", bbox_inches=\"tight\")\n",
    "plt.show()\n"
   ]
  },
  {
   "cell_type": "code",
   "execution_count": 95,
   "metadata": {},
   "outputs": [
    {
     "name": "stderr",
     "output_type": "stream",
     "text": [
      "C:\\Users\\veris\\AppData\\Local\\Temp\\ipykernel_7108\\3497624185.py:2: FutureWarning: this method is deprecated in favour of `Styler.hide(axis='index')`\n",
      "  df.style.hide_index()\n"
     ]
    },
    {
     "data": {
      "text/html": [
       "<style type=\"text/css\">\n",
       "</style>\n",
       "<table id=\"T_9741e\">\n",
       "  <thead>\n",
       "    <tr>\n",
       "      <th id=\"T_9741e_level0_col0\" class=\"col_heading level0 col0\" >keyword</th>\n",
       "      <th id=\"T_9741e_level0_col1\" class=\"col_heading level0 col1\" >count</th>\n",
       "    </tr>\n",
       "  </thead>\n",
       "  <tbody>\n",
       "    <tr>\n",
       "      <td id=\"T_9741e_row0_col0\" class=\"data row0 col0\" >based on novel or book</td>\n",
       "      <td id=\"T_9741e_row0_col1\" class=\"data row0 col1\" >830</td>\n",
       "    </tr>\n",
       "    <tr>\n",
       "      <td id=\"T_9741e_row1_col0\" class=\"data row1 col0\" >murder</td>\n",
       "      <td id=\"T_9741e_row1_col1\" class=\"data row1 col1\" >521</td>\n",
       "    </tr>\n",
       "    <tr>\n",
       "      <td id=\"T_9741e_row2_col0\" class=\"data row2 col0\" >woman director</td>\n",
       "      <td id=\"T_9741e_row2_col1\" class=\"data row2 col1\" >416</td>\n",
       "    </tr>\n",
       "    <tr>\n",
       "      <td id=\"T_9741e_row3_col0\" class=\"data row3 col0\" >new york city</td>\n",
       "      <td id=\"T_9741e_row3_col1\" class=\"data row3 col1\" >406</td>\n",
       "    </tr>\n",
       "    <tr>\n",
       "      <td id=\"T_9741e_row4_col0\" class=\"data row4 col0\" >post credit scene</td>\n",
       "      <td id=\"T_9741e_row4_col1\" class=\"data row4 col1\" >399</td>\n",
       "    </tr>\n",
       "  </tbody>\n",
       "</table>\n"
      ],
      "text/plain": [
       "<pandas.io.formats.style.Styler at 0x25430827280>"
      ]
     },
     "execution_count": 95,
     "metadata": {},
     "output_type": "execute_result"
    }
   ],
   "source": [
    "# display df, no index\n",
    "df.style.hide_index()"
   ]
  }
 ],
 "metadata": {
  "kernelspec": {
   "display_name": "Python 3",
   "language": "python",
   "name": "python3"
  },
  "language_info": {
   "codemirror_mode": {
    "name": "ipython",
    "version": 3
   },
   "file_extension": ".py",
   "mimetype": "text/x-python",
   "name": "python",
   "nbconvert_exporter": "python",
   "pygments_lexer": "ipython3",
   "version": "3.10.4"
  },
  "orig_nbformat": 4,
  "vscode": {
   "interpreter": {
    "hash": "d262e7d787343bb66990a00de3e9893afc6af4e1c4b01eb9fd482a95e03b1473"
   }
  }
 },
 "nbformat": 4,
 "nbformat_minor": 2
}
