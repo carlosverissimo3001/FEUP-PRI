{
 "cells": [
  {
   "cell_type": "code",
   "execution_count": 2,
   "metadata": {},
   "outputs": [],
   "source": [
    "from bs4 import BeautifulSoup as BeautifulSoup\n",
    "import requests\n",
    "import json\n",
    "import re\n",
    "import os\n",
    "\n",
    "from dotenv import load_dotenv\n",
    "\n",
    "load_dotenv()\n",
    "\n",
    "API_KEY = os.getenv(\"API_KEY\")\n",
    "base_image_url = \"https://image.tmdb.org/t/p/original\""
   ]
  },
  {
   "cell_type": "code",
   "execution_count": null,
   "metadata": {},
   "outputs": [],
   "source": [
    "def make_tmbd_request(id):\n",
    "    ## Build the URL\n",
    "    url = \"https://api.themoviedb.org/3/find/\"+ id +\"?api_key=\"+ API_KEY +\"&language=en-US&external_source=imdb_id\"\n",
    "    \n",
    "    ## Make the request\n",
    "    req = requests.get(url)\n",
    "    \n",
    "    return req.json()"
   ]
  },
  {
   "cell_type": "code",
   "execution_count": null,
   "metadata": {},
   "outputs": [],
   "source": [
    "def get_keywords(id) -> list:\n",
    "    url =  \"https://api.themoviedb.org/3/movie/\"+ id + \"/keywords?api_key=\" + API_KEY\n",
    "\n",
    "    ## Make the request\n",
    "    req = requests.get(url)\n",
    "\n",
    "    json_response = req.json()\n",
    "\n",
    "    keywords = []\n",
    "    if 'keywords' in json_response:\n",
    "        for object in json_response[\"keywords\"]:\n",
    "            keywords.append(object[\"name\"])\n",
    "\n",
    "    return keywords"
   ]
  },
  {
   "cell_type": "code",
   "execution_count": null,
   "metadata": {},
   "outputs": [],
   "source": [
    "def get_popularity(response) -> float:\n",
    "    if len(response[\"movie_results\"]) < 1:\n",
    "        return -1\n",
    "    return response[\"movie_results\"][0][\"popularity\"] if \"popularity\" in response[\"movie_results\"][0] else -1"
   ]
  },
  {
   "cell_type": "code",
   "execution_count": null,
   "metadata": {},
   "outputs": [],
   "source": [
    "def get_poster(response) -> str:\n",
    "    if len(response[\"movie_results\"]) < 1:\n",
    "        return \"N/A\"\n",
    "    return \"N/A\" if response[\"movie_results\"][0][\"poster_path\"] == None else base_image_url + response[\"movie_results\"][0][\"poster_path\"]"
   ]
  },
  {
   "cell_type": "code",
   "execution_count": null,
   "metadata": {},
   "outputs": [],
   "source": [
    "feature_films = []"
   ]
  },
  {
   "cell_type": "code",
   "execution_count": null,
   "metadata": {},
   "outputs": [],
   "source": [
    "def get_feature_films(start, end):\n",
    "    j = 0\n",
    "    for page in range(start, end):\n",
    "        print(f\"Page: {page}\")\n",
    "        ## Assemble URL\n",
    "        if page == 0:\n",
    "            url = \"https://www.imdb.com/search/title/?title_type=feature&num_votes=10000,&countries=us&sort=user_rating,desc&view=advanced\"\n",
    "\n",
    "        else:\n",
    "            start = str(1 + page*50)\n",
    "            url = \"https://www.imdb.com/search/title/?title_type=feature&num_votes=10000,&countries=us&view=advanced&sort=user_rating,desc&start=\" + start\n",
    "        \n",
    "        ## Make the request\n",
    "        req=requests.get(url, headers={'Accept-Language': 'en-US, en;q=0.5'})\n",
    "        content=req.text\n",
    "        soup = BeautifulSoup(content)\n",
    "\n",
    "        ### Get the div containg all movies\n",
    "        list_of_movies = soup.findAll(\"div\", attrs={\"class\" : \"lister-item mode-advanced\"})\n",
    "\n",
    "        for movie in list_of_movies:\n",
    "            j +=1\n",
    "            film = {}\n",
    "            \n",
    "            ### Helpful elements\n",
    "            header = movie.find(\"h3\", attrs={\"class\" : \"lister-item-header\"})\n",
    "            paragraphs = movie.findAll(\"p\", attrs={\"class\" : \"text-muted\"})\n",
    "            ratingsBar = movie.find(\"div\", attrs={\"class\" : \"ratings-bar\"})\n",
    "            crewInfo = movie.find(\"p\", attrs={\"class\" : \"\"})\n",
    "            votesIncome = movie.find(\"p\", attrs={\"class\" : \"sort-num_votes-visible\"}).findAll(\"span\", attrs={\"name\" : \"nv\"})\n",
    "            \n",
    "            ## Get the primary title \n",
    "            film[\"title\"]   =  header.find(\"a\").text\n",
    "\n",
    "            ## Get the IMBD movie id, this will be useful later on\n",
    "            film[\"id\"] = movie.find(\"img\", attrs={\"class\" : \"loadlate\"})[\"data-tconst\"]\n",
    "            \n",
    "            ## Using the ID, make a request to TMBD to get infos not avaliable per scraping\n",
    "            response  = make_tmbd_request(film[\"id\"])\n",
    "\n",
    "            \n",
    "            ## Get the year of the movie\n",
    "            year                = header.find(\"span\", attrs={\"class\" : \"lister-item-year\"}).text\n",
    "            \n",
    "            ## Some movie may have (I) or (V) before the year, prevent that\n",
    "            if 'I' in year or 'V' in year:\n",
    "                 film[\"year\"]    = int(year.split()[1][1:5])\n",
    "            else:\n",
    "                film[\"year\"]    = int(year[1:5])\n",
    "\n",
    "            \n",
    "            ## Get the age rating\n",
    "            film[\"certificate\"] = 'N/A' if not paragraphs[0].find(\"span\", attrs={\"class\" : \"certificate\"}) else paragraphs[0].find(\"span\", attrs={\"class\" : \"certificate\"}).text\n",
    "            \n",
    "            ## Get its runtime\n",
    "            film[\"runtime\"]     = int(paragraphs[0].find(\"span\", attrs={\"class\" : \"runtime\"}).text.split()[0])\n",
    "            \n",
    "            ## Get the genres, as an array\n",
    "            film[\"genres\"] = []\n",
    "            genres = paragraphs[0].find(\"span\", attrs={\"class\" : \"genre\"}).text.strip()\n",
    "            \n",
    "            for genre in genres.split(','):\n",
    "                film[\"genres\"].append(genre.replace(' ', ''))\n",
    "            \n",
    "            ## Get the rating\n",
    "            film[\"rating\"]      = float(ratingsBar.find(\"strong\").text)\n",
    "            \n",
    "            ## Get the description, strip newlines\n",
    "            film[\"description\"] = paragraphs[1].text.strip()\n",
    "\n",
    "            ## Get keywords\n",
    "            film[\"keywords\"] = get_keywords(film[\"id\"])\n",
    "\n",
    "            ## This is used to limit directors from stars\n",
    "            ghost = crewInfo.find(\"span\", attrs={\"class\" : \"ghost\"})\n",
    "            \n",
    "            film[\"directors\"] = []\n",
    "            film[\"stars\"] = []\n",
    "\n",
    "            ## Get popularity\n",
    "            film[\"popularity\"] = get_popularity(response)\n",
    "\n",
    "            ## Find all names mentioned\n",
    "            crew = crewInfo.findAll(\"a\")\n",
    "            aux  = crewInfo.next_element\n",
    "            elements = 0\n",
    "\n",
    "            # Count the number of directors\n",
    "            if ghost:\n",
    "                while aux.next_element != ghost:\n",
    "                    elements += 1\n",
    "                    aux = aux.next_element\n",
    "            \n",
    "            ## If there is not a delimter, the number of directors is just one\n",
    "            numDirectors = 1 if not ghost else elements//3\n",
    "\n",
    "            for i in range(0, numDirectors):\n",
    "                film[\"directors\"].append(crew[i].text)\n",
    "\n",
    "            for i in range(numDirectors, len(crew)):\n",
    "                film[\"stars\"].append(crew[i].text)\n",
    "            \n",
    "            ## Get votes and gross income \n",
    "            film[\"votes\"]       = int(votesIncome[0][\"data-value\"])\n",
    "\n",
    "            ## Get images\n",
    "            film[\"poster\"]      = get_poster(response)\n",
    "            \n",
    "            ## Append to array\n",
    "            feature_films.append(film)\n"
   ]
  },
  {
   "cell_type": "code",
   "execution_count": null,
   "metadata": {},
   "outputs": [],
   "source": [
    "get_feature_films(0, 50)"
   ]
  },
  {
   "cell_type": "code",
   "execution_count": null,
   "metadata": {},
   "outputs": [],
   "source": [
    "get_feature_films(50, 100)"
   ]
  },
  {
   "cell_type": "code",
   "execution_count": null,
   "metadata": {},
   "outputs": [],
   "source": [
    "get_feature_films(100, 147)"
   ]
  },
  {
   "cell_type": "code",
   "execution_count": null,
   "metadata": {},
   "outputs": [],
   "source": [
    "for movie in feature_films:\n",
    "    # If \"duringcreditsstinger\" is in the keywords, replace it with \"post credit scene\"\n",
    "    if \"duringcreditsstinger\" in movie[\"keywords\"]:\n",
    "        movie[\"keywords\"].remove(\"duringcreditsstinger\")\n",
    "        movie[\"keywords\"].append(\"post credit scene\")"
   ]
  },
  {
   "cell_type": "code",
   "execution_count": 12,
   "metadata": {},
   "outputs": [],
   "source": [
    "with open(\"output-new/movies-no-reviews.json\", \"w\") as f:\n",
    "   json.dump(feature_films, f, indent =4)"
   ]
  }
 ],
 "metadata": {
  "kernelspec": {
   "display_name": "Python 3",
   "language": "python",
   "name": "python3"
  },
  "language_info": {
   "codemirror_mode": {
    "name": "ipython",
    "version": 3
   },
   "file_extension": ".py",
   "mimetype": "text/x-python",
   "name": "python",
   "nbconvert_exporter": "python",
   "pygments_lexer": "ipython3",
   "version": "3.10.4"
  },
  "orig_nbformat": 4,
  "vscode": {
   "interpreter": {
    "hash": "d262e7d787343bb66990a00de3e9893afc6af4e1c4b01eb9fd482a95e03b1473"
   }
  }
 },
 "nbformat": 4,
 "nbformat_minor": 2
}
